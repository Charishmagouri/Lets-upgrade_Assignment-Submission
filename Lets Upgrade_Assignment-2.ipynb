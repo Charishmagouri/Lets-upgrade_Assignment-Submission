{
 "cells": [
  {
   "cell_type": "raw",
   "metadata": {},
   "source": [
    "Questions 1:\n",
    "Create an empty list. Accept 10 numbers from the user and append to it the list if it is an even number."
   ]
  },
  {
   "cell_type": "code",
   "execution_count": 23,
   "metadata": {},
   "outputs": [
    {
     "name": "stdout",
     "output_type": "stream",
     "text": [
      "\n",
      "Enter the value : 1\n",
      "\n",
      "Enter the value : 2\n",
      "\n",
      "Enter the value : 3\n",
      "\n",
      "Enter the value : 4\n",
      "\n",
      "Enter the value : 5\n",
      "\n",
      "Enter the value : 6\n",
      "\n",
      "Enter the value : 7\n",
      "\n",
      "Enter the value : 8\n",
      "\n",
      "Enter the value : 9\n",
      "\n",
      "Enter the value : 10\n",
      "\n",
      "The even list [2, 4, 6, 8, 10]\n"
     ]
    }
   ],
   "source": [
    "list = []\n",
    "# getting 10 values from user\n",
    "for num in range(0,10):\n",
    "    x = int(input(\"\\nEnter the value : \"))\n",
    "    list.append(x)\n",
    "# creating a empty list to append event numbers\n",
    "even_list = []\n",
    "# appending only even numbers\n",
    "for num in list:\n",
    "    if(num%2==0):\n",
    "        even_list.append(num)\n",
    "print(\"\\nThe even list\",even_list)"
   ]
  },
  {
   "cell_type": "raw",
   "metadata": {},
   "source": [
    "Questions 2:\n",
    "Create a notebook on LIST COMPREHENSION. This exercise is to put you in a Self learning mode"
   ]
  },
  {
   "cell_type": "raw",
   "metadata": {},
   "source": [
    "1)List comprehension is an elegant way to define and create lists based on existing lists.\n",
    "2)List comprehension is generally more compact and faster than normal functions and loops for creating list.\n",
    "3)However, we should avoid writing very long list comprehensions in one line to ensure that code is user-friendly.\n",
    "4)Remember, every list comprehension can be rewritten in for loop, but every for loop can’t be rewritten in the form of list comprehension.\n",
    "-A most basic form of List comprehensions in Python are constructed as:\n",
    "\n",
    "list_variable = [expression for item in collection] \n",
    "\n",
    "The first expression generates elements in the list followed by a for loop over some collection of data which would evaluate the expression for every item in the collection.\n",
    "\n"
   ]
  },
  {
   "cell_type": "code",
   "execution_count": null,
   "metadata": {},
   "outputs": [],
   "source": []
  },
  {
   "cell_type": "raw",
   "metadata": {},
   "source": [
    "Questions 3:\n",
    "You have seen in the videos how powerful dictionary data structure is.\n",
    "In this assignment, given a number n, you have to write a program that generates a dictionary d which\n",
    "contains (i, i*i), where i is from 1 to n (both included).\n",
    "Then you have to just print this dictionary d."
   ]
  },
  {
   "cell_type": "code",
   "execution_count": 25,
   "metadata": {},
   "outputs": [
    {
     "name": "stdout",
     "output_type": "stream",
     "text": [
      "8\n",
      "{1: 1, 2: 4, 3: 9, 4: 16, 5: 25, 6: 36, 7: 49, 8: 64}\n"
     ]
    }
   ],
   "source": [
    "# creating a empty dict\n",
    "dict = {}\n",
    "#  getting value for \"n\" from user\n",
    "n = int(input())\n",
    "for i in range(1,n+1):\n",
    "  dict[i] = i*i\n",
    "print(dict)"
   ]
  },
  {
   "cell_type": "raw",
   "metadata": {},
   "source": [
    "Question - 4:\n",
    "Write a program to compute the distance between the current position after a sequence of movement and original point. If the distance is a float, then just print the nearest integer (use round() function for that and then convert it into an integer)."
   ]
  },
  {
   "cell_type": "code",
   "execution_count": 27,
   "metadata": {},
   "outputs": [
    {
     "name": "stdout",
     "output_type": "stream",
     "text": [
      "4\n",
      "up 5\n",
      "down 3\n",
      "left 3\n",
      "right 2\n",
      "2\n"
     ]
    }
   ],
   "source": [
    "#  creating a origin position\n",
    "pos = {\"x\":0,\"y\":0}\n",
    "# getting movement from user\n",
    "n = int(input())\n",
    "# for loop\n",
    "for i in range (n):\n",
    "    move =  input().split(\" \")      \n",
    "    if move[0].lower() == \"up\":     \n",
    "        pos[\"y\"] += int(move[1])    \n",
    "    elif move[0].lower() == \"down\":\n",
    "        pos[\"y\"] -= int(move[1])\n",
    "    elif move[0].lower() == \"left\":\n",
    "        pos[\"x\"] -= int(move[1])\n",
    "    elif move[0].lower() == \"right\":\n",
    "        pos[\"x\"] += int(move[1])\n",
    "print(int(round((pos[\"x\"]**2 + pos[\"y\"]**2)**0.5)))"
   ]
  },
  {
   "cell_type": "code",
   "execution_count": null,
   "metadata": {},
   "outputs": [],
   "source": []
  }
 ],
 "metadata": {
  "kernelspec": {
   "display_name": "Python 3",
   "language": "python",
   "name": "python3"
  },
  "language_info": {
   "codemirror_mode": {
    "name": "ipython",
    "version": 3
   },
   "file_extension": ".py",
   "mimetype": "text/x-python",
   "name": "python",
   "nbconvert_exporter": "python",
   "pygments_lexer": "ipython3",
   "version": "3.7.1"
  }
 },
 "nbformat": 4,
 "nbformat_minor": 2
}
