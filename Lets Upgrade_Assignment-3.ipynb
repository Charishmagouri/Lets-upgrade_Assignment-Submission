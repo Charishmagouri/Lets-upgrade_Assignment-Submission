{
 "cells": [
  {
   "cell_type": "raw",
   "metadata": {},
   "source": [
    "Question  1:\n",
    "Create a numpy array starting from 2 till 50 with a stepsize of 3."
   ]
  },
  {
   "cell_type": "code",
   "execution_count": 1,
   "metadata": {},
   "outputs": [
    {
     "name": "stdout",
     "output_type": "stream",
     "text": [
      "[ 2  5  8 11 14 17 20 23 26 29 32 35 38 41 44 47]\n"
     ]
    }
   ],
   "source": [
    "import numpy as np\n",
    "# creating a array using numpy arange with 2 till 50 with stepsize of 3\n",
    "arr = np.arange(2, 50, 3)\n",
    "print(arr)"
   ]
  },
  {
   "cell_type": "code",
   "execution_count": null,
   "metadata": {},
   "outputs": [],
   "source": []
  },
  {
   "cell_type": "raw",
   "metadata": {},
   "source": [
    "Question 2:\n",
    "Accept two lists of 5 elements each from the user. Convert them to numpy arrays. Concatenate these arrays and print it. Also sort these arrays and print it."
   ]
  },
  {
   "cell_type": "code",
   "execution_count": 3,
   "metadata": {},
   "outputs": [
    {
     "name": "stdout",
     "output_type": "stream",
     "text": [
      "\n",
      "Enter the value for list_1 : 2\n",
      "\n",
      "Enter the value for list_1 : 7\n",
      "\n",
      "Enter the value for list_1 : 1\n",
      "\n",
      "Enter the value for list_1 : 3\n",
      "\n",
      "Enter the value for list_1 : 9\n",
      "\n",
      "Enter the value for list_2 : 8\n",
      "\n",
      "Enter the value for list_2 : 5\n",
      "\n",
      "Enter the value for list_2 : 0\n",
      "\n",
      "Enter the value for list_2 : 4\n",
      "\n",
      "Enter the value for list_2 : 6\n",
      "\n",
      "Array value for concatenated arr : [2 7 1 3 9 8 5 0 4 6]\n",
      "\n",
      "Sorted Array for concatenated arr : [0 1 2 3 4 5 6 7 8 9]\n"
     ]
    }
   ],
   "source": [
    "import numpy as np\n",
    "# creating a 2 empty list:\n",
    "list_1 = []\n",
    "list_2 = []\n",
    "# getting values for lst_1 from user:\n",
    "for i in range(5):\n",
    "  x=int(input(\"\\nEnter the value for list_1 : \"))\n",
    "  list_1.append(x)\n",
    "\n",
    "# getting values for lst_2 from user:\n",
    "for i in range(5):\n",
    "  x=int(input(\"\\nEnter the value for list_2 : \"))\n",
    "  list_2.append(x)\n",
    "# converting list into numpy arrays:\n",
    "arr_1 = np.array(list_1)\n",
    "arr_2 = np.array(list_2)\n",
    "# concatenating 2 array and printing it:\n",
    "arr = np.concatenate((arr_1, arr_2))\n",
    "print(\"\\nArray value for concatenated arr :\",arr)\n",
    "# sorting up concatenated array and printing it:\n",
    "sortArr = np.sort(arr)\n",
    "print(\"\\nSorted Array for concatenated arr :\",sortArr)"
   ]
  },
  {
   "cell_type": "code",
   "execution_count": null,
   "metadata": {},
   "outputs": [],
   "source": []
  },
  {
   "cell_type": "raw",
   "metadata": {},
   "source": [
    "Questions 3:\n",
    "Write a code snippet to find the dimensions of a ndarray and its size."
   ]
  },
  {
   "cell_type": "code",
   "execution_count": 5,
   "metadata": {},
   "outputs": [
    {
     "name": "stdout",
     "output_type": "stream",
     "text": [
      "\n",
      " No.of dimensions in array :  2\n",
      "\n",
      "Size of array :  8\n"
     ]
    }
   ],
   "source": [
    "import numpy as np\n",
    "# creating a 2d array\n",
    "arr = np.array([[1,2,3,5],[4,5,6,7]])\n",
    "\n",
    "# Printing array dimensions (axes)\n",
    "print(\"\\n No.of dimensions in array : \", arr.ndim)\n",
    " \n",
    "# Printing size of array\n",
    "print(\"\\nSize of array : \", arr.size)"
   ]
  },
  {
   "cell_type": "code",
   "execution_count": null,
   "metadata": {},
   "outputs": [],
   "source": []
  },
  {
   "cell_type": "raw",
   "metadata": {},
   "source": [
    "Question 4:\n",
    "How to convert a 1D array into a 2D array? Demonstrate with the help of a code snippet"
   ]
  },
  {
   "cell_type": "code",
   "execution_count": 7,
   "metadata": {},
   "outputs": [
    {
     "name": "stdout",
     "output_type": "stream",
     "text": [
      "\n",
      "Shape of Array : (8,)\n",
      "\n",
      "Shape of 2d Array in row major : (1, 8)\n",
      "\n",
      "Shape of 2d Array in column major : (8, 1)\n"
     ]
    }
   ],
   "source": [
    "import numpy as np\n",
    "# creating a 1d array\n",
    "arr = np.arange(8)\n",
    "print(\"\\nShape of Array :\",arr.shape)\n",
    "\n",
    "# converting using newaxis in row wise- ArrayName[numpy.newaxis, :]\n",
    "row_arr = arr[np.newaxis, :]\n",
    "print(\"\\nShape of 2d Array in row major :\",row_arr.shape)\n",
    "\n",
    "# converting using newaxis in column wise-ArrayName[:, numpy.newaxis]\n",
    "col_arr = arr[:, np.newaxis]\n",
    "print(\"\\nShape of 2d Array in column major :\",col_arr.shape)"
   ]
  },
  {
   "cell_type": "code",
   "execution_count": null,
   "metadata": {},
   "outputs": [],
   "source": []
  },
  {
   "cell_type": "raw",
   "metadata": {},
   "source": [
    "Question 5:\n",
    "Consider two square numpy arrays. Stack them vertically and horizontally."
   ]
  },
  {
   "cell_type": "code",
   "execution_count": 9,
   "metadata": {},
   "outputs": [
    {
     "name": "stdout",
     "output_type": "stream",
     "text": [
      "\n",
      "Horizontal Append : [  1   4   9  16  25  36  49  64  81 100]\n",
      "\n",
      "Vertical Append : [[  1   4   9  16  25]\n",
      " [ 36  49  64  81 100]]\n"
     ]
    }
   ],
   "source": [
    "import numpy as np\n",
    "# creating two square numpy values:\n",
    "arr_1 = np.array([1, 4, 9, 16, 25])\n",
    "arr_2 = np.array([36, 49, 64, 81, 100])\n",
    "\n",
    "# stacking and printing the value\n",
    "print(\"\\nHorizontal Append :\", np.hstack((arr_1, arr_2)))#hstack()\n",
    "print(\"\\nVertical Append :\", np.vstack((arr_1, arr_2))) #vstack()"
   ]
  },
  {
   "cell_type": "code",
   "execution_count": null,
   "metadata": {},
   "outputs": [],
   "source": []
  },
  {
   "cell_type": "raw",
   "metadata": {},
   "source": [
    "Question 6:\n",
    "How to get unique items and counts of unique items"
   ]
  },
  {
   "cell_type": "code",
   "execution_count": 12,
   "metadata": {},
   "outputs": [
    {
     "name": "stdout",
     "output_type": "stream",
     "text": [
      "[[ 1  2]\n",
      " [ 2  3]\n",
      " [ 3  1]\n",
      " [ 4  2]\n",
      " [ 5  1]\n",
      " [ 6  1]\n",
      " [ 7  1]\n",
      " [ 8  3]\n",
      " [ 9  1]\n",
      " [10  1]]\n"
     ]
    }
   ],
   "source": [
    "import numpy as np\n",
    "# creating a array \n",
    "arr_1 = np.array([1, 2, 2, 5, 8, 4, 4, 8, 9, 2, 1, 3, 6, 7, 8, 10])\n",
    "\n",
    "# getting unique charater and its count\n",
    "unique, counts = np.unique(arr_1, return_counts=True) \n",
    "arr = np.asarray((unique, counts)).T\n",
    "print(arr)"
   ]
  },
  {
   "cell_type": "code",
   "execution_count": null,
   "metadata": {},
   "outputs": [],
   "source": []
  }
 ],
 "metadata": {
  "kernelspec": {
   "display_name": "Python 3",
   "language": "python",
   "name": "python3"
  },
  "language_info": {
   "codemirror_mode": {
    "name": "ipython",
    "version": 3
   },
   "file_extension": ".py",
   "mimetype": "text/x-python",
   "name": "python",
   "nbconvert_exporter": "python",
   "pygments_lexer": "ipython3",
   "version": "3.7.1"
  }
 },
 "nbformat": 4,
 "nbformat_minor": 2
}
